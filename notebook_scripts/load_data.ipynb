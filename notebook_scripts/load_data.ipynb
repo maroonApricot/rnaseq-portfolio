{
 "cells": [
  {
   "cell_type": "code",
   "execution_count": 3,
   "metadata": {},
   "outputs": [],
   "source": [
    "import scanpy as sc\n",
    "sc.settings.n_jobs = -1\n",
    "import h5py"
   ]
  },
  {
   "cell_type": "code",
   "execution_count": 4,
   "metadata": {},
   "outputs": [
    {
     "name": "stderr",
     "output_type": "stream",
     "text": [
      "/Users/Macbook/Desktop/scrna-portfolio/scrna_env/lib/python3.10/site-packages/anndata/_core/anndata.py:1758: UserWarning: Variable names are not unique. To make them unique, call `.var_names_make_unique`.\n",
      "  utils.warn_names_duplicates(\"var\")\n",
      "/Users/Macbook/Desktop/scrna-portfolio/scrna_env/lib/python3.10/site-packages/anndata/_core/anndata.py:1758: UserWarning: Variable names are not unique. To make them unique, call `.var_names_make_unique`.\n",
      "  utils.warn_names_duplicates(\"var\")\n"
     ]
    }
   ],
   "source": [
    "# Load the filtered feature/cell matrix from HDF5\n",
    "# RUN THIS ONLY ONCE! It takes just over 5 minutes to load in the environment I set up\n",
    "adata = sc.read_10x_h5(\"../data/16plex_900k_32_NSCLC_multiplex_count_filtered_feature_bc_matrix.h5\")"
   ]
  },
  {
   "cell_type": "code",
   "execution_count": 20,
   "metadata": {},
   "outputs": [
    {
     "name": "stdout",
     "output_type": "stream",
     "text": [
      "(897733,) |S28\n"
     ]
    }
   ],
   "source": [
    "with h5py.File('../data/16plex_900k_32_NSCLC_multiplex_count_filtered_feature_bc_matrix.h5', 'r') as f:\n",
    "    experiment_data = f['/matrix/barcodes'] \n",
    "    print(experiment_data.shape, experiment_data.dtype)"
   ]
  },
  {
   "cell_type": "code",
   "execution_count": 23,
   "metadata": {},
   "outputs": [
    {
     "name": "stdout",
     "output_type": "stream",
     "text": [
      "1\n"
     ]
    }
   ],
   "source": [
    "print(len(adata.obs[(adata.obs.index == \"AAACAAGCAAACGGTCACTTTAGG-1\")]))"
   ]
  },
  {
   "cell_type": "code",
   "execution_count": 24,
   "metadata": {},
   "outputs": [
    {
     "name": "stdout",
     "output_type": "stream",
     "text": [
      "Empty DataFrame\n",
      "Columns: []\n",
      "Index: [AAACAAGCAAACGGTCACTTTAGG-1, AAACAAGCAATAAGGAACTTTAGG-1, AAACAAGCAGCACTAAACTTTAGG-1, AAACAAGCATCGATAGACTTTAGG-1, AAACCAATCCGAAAGTACTTTAGG-1]\n"
     ]
    }
   ],
   "source": [
    "print(adata.obs.head())"
   ]
  },
  {
   "cell_type": "code",
   "execution_count": null,
   "metadata": {},
   "outputs": [
    {
     "name": "stdout",
     "output_type": "stream",
     "text": [
      "                            SAMD11  NOC2L  KLHL17  PLEKHN1  PERM1  HES4  \\\n",
      "AAACAAGCAAACGGTCACTTTAGG-1     0.0    1.0     1.0      0.0    0.0   0.0   \n",
      "AAACAAGCAATAAGGAACTTTAGG-1     0.0    0.0     0.0      0.0    0.0   0.0   \n",
      "AAACAAGCAGCACTAAACTTTAGG-1     0.0    0.0     0.0      0.0    0.0   0.0   \n",
      "AAACAAGCATCGATAGACTTTAGG-1     0.0    1.0     2.0      0.0    0.0   2.0   \n",
      "AAACCAATCCGAAAGTACTTTAGG-1     0.0    1.0     0.0      0.0    0.0   0.0   \n",
      "\n",
      "                            ISG15  AGRN  RNF223  C1orf159  ...  MT-ND2  \\\n",
      "AAACAAGCAAACGGTCACTTTAGG-1    0.0  12.0     0.0       0.0  ...     4.0   \n",
      "AAACAAGCAATAAGGAACTTTAGG-1    0.0   0.0     0.0       0.0  ...     1.0   \n",
      "AAACAAGCAGCACTAAACTTTAGG-1    0.0   0.0     0.0       0.0  ...     3.0   \n",
      "AAACAAGCATCGATAGACTTTAGG-1    1.0   4.0     0.0       0.0  ...     2.0   \n",
      "AAACCAATCCGAAAGTACTTTAGG-1    0.0   1.0     0.0       0.0  ...     0.0   \n",
      "\n",
      "                            MT-CO2  MT-ATP6  MT-CO3  MT-ND3  MT-ND4L  MT-ND4  \\\n",
      "AAACAAGCAAACGGTCACTTTAGG-1    17.0      8.0    38.0     8.0      4.0     7.0   \n",
      "AAACAAGCAATAAGGAACTTTAGG-1     5.0      1.0     5.0     0.0      0.0     0.0   \n",
      "AAACAAGCAGCACTAAACTTTAGG-1    13.0      9.0    26.0     8.0      4.0    13.0   \n",
      "AAACAAGCATCGATAGACTTTAGG-1    31.0     15.0    41.0     7.0     12.0    21.0   \n",
      "AAACCAATCCGAAAGTACTTTAGG-1     2.0      4.0     5.0     1.0      3.0     1.0   \n",
      "\n",
      "                            MT-ND5  MT-ND6  MT-CYB  \n",
      "AAACAAGCAAACGGTCACTTTAGG-1     4.0    55.0     7.0  \n",
      "AAACAAGCAATAAGGAACTTTAGG-1     0.0     1.0     0.0  \n",
      "AAACAAGCAGCACTAAACTTTAGG-1     1.0    18.0     4.0  \n",
      "AAACAAGCATCGATAGACTTTAGG-1     3.0    71.0     7.0  \n",
      "AAACCAATCCGAAAGTACTTTAGG-1     1.0    21.0     2.0  \n",
      "\n",
      "[5 rows x 18082 columns]\n"
     ]
    }
   ],
   "source": [
    "# convert top 50,000 datapoints of this to pandas df because, again, small virenv\n",
    "import pandas as pd\n",
    "import numpy as np\n",
    "\n",
    "# tenary that converts matrix into dense if not already\n",
    "dense_matrix = adata.X[:50000,].toarray() if hasattr(adata.X, 'toarray') else adata.X[:50000,]  \n",
    "\n",
    "# Convert to Pandas DataFrame\n",
    "df = pd.DataFrame(dense_matrix, index=adata.obs_names[:50000], columns=adata.var_names)\n",
    "\n",
    "# Display the first few rows\n",
    "print(df.head())"
   ]
  },
  {
   "cell_type": "code",
   "execution_count": null,
   "metadata": {},
   "outputs": [],
   "source": []
  },
  {
   "cell_type": "code",
   "execution_count": 9,
   "metadata": {},
   "outputs": [
    {
     "data": {
      "text/html": [
       "<div>\n",
       "<style scoped>\n",
       "    .dataframe tbody tr th:only-of-type {\n",
       "        vertical-align: middle;\n",
       "    }\n",
       "\n",
       "    .dataframe tbody tr th {\n",
       "        vertical-align: top;\n",
       "    }\n",
       "\n",
       "    .dataframe thead th {\n",
       "        text-align: right;\n",
       "    }\n",
       "</style>\n",
       "<table border=\"1\" class=\"dataframe\">\n",
       "  <thead>\n",
       "    <tr style=\"text-align: right;\">\n",
       "      <th></th>\n",
       "    </tr>\n",
       "  </thead>\n",
       "  <tbody>\n",
       "    <tr>\n",
       "      <th>AAACAAGCAAACGGTCACTTTAGG-1</th>\n",
       "    </tr>\n",
       "    <tr>\n",
       "      <th>AAACAAGCAATAAGGAACTTTAGG-1</th>\n",
       "    </tr>\n",
       "    <tr>\n",
       "      <th>AAACAAGCAGCACTAAACTTTAGG-1</th>\n",
       "    </tr>\n",
       "    <tr>\n",
       "      <th>AAACAAGCATCGATAGACTTTAGG-1</th>\n",
       "    </tr>\n",
       "    <tr>\n",
       "      <th>AAACCAATCCGAAAGTACTTTAGG-1</th>\n",
       "    </tr>\n",
       "    <tr>\n",
       "      <th>...</th>\n",
       "    </tr>\n",
       "    <tr>\n",
       "      <th>TTTGCTGAGGTCAAGTATTCGGTT-128</th>\n",
       "    </tr>\n",
       "    <tr>\n",
       "      <th>TTTGCTGAGTTTCCAGATTCGGTT-128</th>\n",
       "    </tr>\n",
       "    <tr>\n",
       "      <th>TTTGGACGTAAGCTAGATTCGGTT-128</th>\n",
       "    </tr>\n",
       "    <tr>\n",
       "      <th>TTTGGACGTTCGAATCATTCGGTT-128</th>\n",
       "    </tr>\n",
       "    <tr>\n",
       "      <th>TTTGTGAGTGGATGGTATTCGGTT-128</th>\n",
       "    </tr>\n",
       "  </tbody>\n",
       "</table>\n",
       "<p>897733 rows × 0 columns</p>\n",
       "</div>"
      ],
      "text/plain": [
       "Empty DataFrame\n",
       "Columns: []\n",
       "Index: [AAACAAGCAAACGGTCACTTTAGG-1, AAACAAGCAATAAGGAACTTTAGG-1, AAACAAGCAGCACTAAACTTTAGG-1, AAACAAGCATCGATAGACTTTAGG-1, AAACCAATCCGAAAGTACTTTAGG-1, AAACCAATCCTCAAGCACTTTAGG-1, AAACCAATCGATATAGACTTTAGG-1, AAACCAGGTATTGGGAACTTTAGG-1, AAACCAGGTGACATTCACTTTAGG-1, AAACCAGGTTACTTCTACTTTAGG-1, AAACCAGGTTGGATGAACTTTAGG-1, AAACCAGGTTTAGTTGACTTTAGG-1, AAACCGGTCAGGCAATACTTTAGG-1, AAACCGGTCATGATGAACTTTAGG-1, AAACCGGTCATGCATTACTTTAGG-1, AAACCGGTCGCTCAACACTTTAGG-1, AAACCGGTCGCTTCGGACTTTAGG-1, AAACGGGCAACCTTGTACTTTAGG-1, AAACGGGCACACCCACACTTTAGG-1, AAACGTTCAAGCCTCCACTTTAGG-1, AAACGTTCAAGTCGCGACTTTAGG-1, AAACGTTCAATCGTTCACTTTAGG-1, AAACGTTCAATCTCTAACTTTAGG-1, AAACGTTCATGGCCGAACTTTAGG-1, AAACTGGGTCACCAGCACTTTAGG-1, AAACTGGGTCGTCCAAACTTTAGG-1, AAACTGGGTGGCTTTGACTTTAGG-1, AAACTGGGTTTACTGAACTTTAGG-1, AAACTGTCACTAAGCAACTTTAGG-1, AAAGATGCACACTGGGACTTTAGG-1, AAAGCATGTAAGGTTGACTTTAGG-1, AAAGCATGTATTGTCAACTTTAGG-1, AAAGCATGTCTACCAGACTTTAGG-1, AAAGCATGTGAGAAGGACTTTAGG-1, AAAGCATGTTAAGGCAACTTTAGG-1, AAAGCATGTTCTCAAAACTTTAGG-1, AAAGCATGTTGTTGTAACTTTAGG-1, AAAGCCTAGAGGCGAGACTTTAGG-1, AAAGCCTAGCGCTCCAACTTTAGG-1, AAAGCCTAGCTCGATCACTTTAGG-1, AAAGCCTAGGGAGGATACTTTAGG-1, AAAGCCTAGGGCCTTTACTTTAGG-1, AAAGCCTAGTAACTTCACTTTAGG-1, AAAGCCTAGTTACACTACTTTAGG-1, AAAGCGAAGCGAGGGAACTTTAGG-1, AAAGCGAAGCGTGCTTACTTTAGG-1, AAAGCGAAGGCCATTCACTTTAGG-1, AAAGCGAAGGTTATGAACTTTAGG-1, AAAGGCAAGCGGGACTACTTTAGG-1, AAAGGCAAGCTTCTAGACTTTAGG-1, AAAGGCAAGGAGTCATACTTTAGG-1, AAAGGCAAGTGTAATGACTTTAGG-1, AAAGGCAAGTTACAGAACTTTAGG-1, AAAGGCTTCCTGGTTAACTTTAGG-1, AAAGGCTTCCTTATGGACTTTAGG-1, AAAGGCTTCCTTGTTCACTTTAGG-1, AAAGGCTTCGGTACCTACTTTAGG-1, AAAGGCTTCTCACCGGACTTTAGG-1, AAAGGCTTCTTAAGCTACTTTAGG-1, AAAGGCTTCTTTGGTGACTTTAGG-1, AAAGGGATCCCTCATTACTTTAGG-1, AAAGGGATCCCTGGTGACTTTAGG-1, AAAGGTACAACAAGTTACTTTAGG-1, AAAGGTACAAGCGATCACTTTAGG-1, AAAGGTACAAGTTTCCACTTTAGG-1, AAAGGTACACAGCAACACTTTAGG-1, AAAGGTACATAAGCTGACTTTAGG-1, AAAGGTACATCTATGCACTTTAGG-1, AAAGGTACATGTGGCGACTTTAGG-1, AAAGGTGAGAGCAAGAACTTTAGG-1, AAAGGTGAGCCTTAATACTTTAGG-1, AAAGGTGAGCGGCTTTACTTTAGG-1, AAAGGTGAGGTCGAGCACTTTAGG-1, AAAGTAGCAACAGGCTACTTTAGG-1, AAAGTAGCAATTCGGAACTTTAGG-1, AAAGTAGCACCGTTTGACTTTAGG-1, AAAGTAGCAGGTGACTACTTTAGG-1, AAAGTCATCCTAAGTTACTTTAGG-1, AAAGTCATCCTGGTTAACTTTAGG-1, AAAGTGCTCCATCCTTACTTTAGG-1, AAAGTGCTCCATTAGTACTTTAGG-1, AAAGTGCTCCCATAATACTTTAGG-1, AAAGTGCTCGCCTCGAACTTTAGG-1, AAAGTGCTCTACTACGACTTTAGG-1, AAATCACCAAGCTCAAACTTTAGG-1, AAATCCTTCATGTCATACTTTAGG-1, AAATCCTTCGCGAGTAACTTTAGG-1, AAATCCTTCGTCAATTACTTTAGG-1, AAATCCTTCGTCCATAACTTTAGG-1, AAATCGATCCGAATTTACTTTAGG-1, AAATCGATCGCTCAGTACTTTAGG-1, AAATCGATCTACTACGACTTTAGG-1, AAATCGATCTTGAAAGACTTTAGG-1, AAATGAGCAATTAGCGACTTTAGG-1, AAATGAGCACCGGCAAACTTTAGG-1, AAATGAGCAGGCTATAACTTTAGG-1, AAATGAGCATAGCGACACTTTAGG-1, AAATGGTGTTCCGGGTACTTTAGG-1, AAATGGTGTTCTGGCAACTTTAGG-1, AAATGGTGTTGGTTTAACTTTAGG-1, ...]\n",
       "\n",
       "[897733 rows x 0 columns]"
      ]
     },
     "execution_count": 9,
     "metadata": {},
     "output_type": "execute_result"
    }
   ],
   "source": [
    "adata.obs"
   ]
  },
  {
   "cell_type": "code",
   "execution_count": null,
   "metadata": {},
   "outputs": [
    {
     "data": {
      "text/plain": [
       "<Compressed Sparse Row sparse matrix of dtype 'float32'\n",
       "\twith 140003159 stored elements and shape (100000, 18082)>"
      ]
     },
     "execution_count": 11,
     "metadata": {},
     "output_type": "execute_result"
    }
   ],
   "source": []
  },
  {
   "cell_type": "code",
   "execution_count": null,
   "metadata": {},
   "outputs": [],
   "source": []
  }
 ],
 "metadata": {
  "kernelspec": {
   "display_name": "scrna_env",
   "language": "python",
   "name": "python3"
  },
  "language_info": {
   "codemirror_mode": {
    "name": "ipython",
    "version": 3
   },
   "file_extension": ".py",
   "mimetype": "text/x-python",
   "name": "python",
   "nbconvert_exporter": "python",
   "pygments_lexer": "ipython3",
   "version": "3.10.0"
  }
 },
 "nbformat": 4,
 "nbformat_minor": 2
}
