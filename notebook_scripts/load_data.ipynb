{
 "cells": [
  {
   "cell_type": "code",
   "execution_count": 1,
   "metadata": {},
   "outputs": [],
   "source": [
    "import scanpy as sc\n",
    "sc.settings.n_jobs = -1\n",
    "import h5py"
   ]
  },
  {
   "cell_type": "code",
   "execution_count": null,
   "metadata": {},
   "outputs": [
    {
     "data": {
      "text/plain": [
       "('../data/GSE234471_processed.tar', <http.client.HTTPMessage at 0x12ce76b30>)"
      ]
     },
     "execution_count": 25,
     "metadata": {},
     "output_type": "execute_result"
    }
   ],
   "source": [
    "# I will fix this to dow load the h5 files later but i downlaoded them into a separate folder directly for now\n",
    "\n",
    "# import GEOparse\n",
    "# import os\n",
    "# geo_id = \"GSE234471\"\n",
    "# gse = GEOparse.get_GEO(geo=geo_id)\n",
    "# # os.rename(\"../notebook_scripts/GSE234471_family.soft.gz\", \"../data/GSE234471_family.soft.gz\")\n",
    "# from urllib.request import urlretrieve\n",
    "# url = \"https://www.ncbi.nlm.nih.gov/geo/download/?acc=GSE234471&format=file\"\n",
    "# path = \"../data/GSE234471_processed.tar\"\n",
    "# urlretrieve(url, path)\n",
    "\n",
    "# import tarfile \n",
    "# with open('file.', 'rb') as f_in:\n",
    "#     with gzip.open('file.txt.gz', 'wb') as f_out:\n",
    "#         f_out.writelines(f_in)\n",
    "\n",
    "#downloaded h5 data directly from https://www.ncbi.nlm.nih.gov/geo/query/acc.cgi?acc=GSE234471"
   ]
  },
  {
   "cell_type": "code",
   "execution_count": 27,
   "metadata": {},
   "outputs": [
    {
     "name": "stderr",
     "output_type": "stream",
     "text": [
      "/Users/Macbook/Desktop/scrna-portfolio/scrna_env/lib/python3.10/site-packages/anndata/_core/anndata.py:1758: UserWarning: Variable names are not unique. To make them unique, call `.var_names_make_unique`.\n",
      "  utils.warn_names_duplicates(\"var\")\n",
      "/Users/Macbook/Desktop/scrna-portfolio/scrna_env/lib/python3.10/site-packages/anndata/_core/anndata.py:1758: UserWarning: Variable names are not unique. To make them unique, call `.var_names_make_unique`.\n",
      "  utils.warn_names_duplicates(\"var\")\n",
      "/Users/Macbook/Desktop/scrna-portfolio/scrna_env/lib/python3.10/site-packages/anndata/_core/anndata.py:1758: UserWarning: Variable names are not unique. To make them unique, call `.var_names_make_unique`.\n",
      "  utils.warn_names_duplicates(\"var\")\n",
      "/Users/Macbook/Desktop/scrna-portfolio/scrna_env/lib/python3.10/site-packages/anndata/_core/anndata.py:1758: UserWarning: Variable names are not unique. To make them unique, call `.var_names_make_unique`.\n",
      "  utils.warn_names_duplicates(\"var\")\n"
     ]
    }
   ],
   "source": [
    "# Load the filtered feature/cell matrix from HDF5\n",
    "c_data = sc.read_10x_h5(\"../data/GSM7469255_Veh-1_filtered_feature_bc_matrix.h5\")\n",
    "t_data = sc.read_10x_h5(\"../data/GSM7469256_dTAGV-1_filtered_feature_bc_matrix.h5\")"
   ]
  },
  {
   "cell_type": "code",
   "execution_count": 20,
   "metadata": {},
   "outputs": [
    {
     "name": "stdout",
     "output_type": "stream",
     "text": [
      "(13067,) |S18\n"
     ]
    }
   ],
   "source": [
    "with h5py.File('../data/GSM7469255_Veh-1_filtered_feature_bc_matrix.h5', 'r') as f:\n",
    "    experiment_data = f['/matrix/barcodes'] \n",
    "    print(experiment_data.shape, experiment_data.dtype)"
   ]
  },
  {
   "cell_type": "code",
   "execution_count": 21,
   "metadata": {},
   "outputs": [
    {
     "name": "stdout",
     "output_type": "stream",
     "text": [
      "Empty DataFrame\n",
      "Columns: []\n",
      "Index: [AAACCCAAGACCAAGC-1, AAACCCAAGACTCCGC-1, AAACCCAAGCGTACAG-1, AAACCCAAGCTCGACC-1, AAACCCAAGTGAGGTC-1]\n"
     ]
    }
   ],
   "source": [
    "print(adata.obs.head())"
   ]
  },
  {
   "cell_type": "code",
   "execution_count": 22,
   "metadata": {},
   "outputs": [
    {
     "name": "stdout",
     "output_type": "stream",
     "text": [
      "                    Xkr4  Gm1992  Gm19938  Gm37381  Rp1  Sox17  Gm37587  \\\n",
      "AAACCCAAGACCAAGC-1   0.0     0.0      0.0      0.0  0.0    0.0      0.0   \n",
      "AAACCCAAGACTCCGC-1   0.0     0.0      0.0      0.0  0.0    0.0      0.0   \n",
      "AAACCCAAGCGTACAG-1   0.0     0.0      0.0      0.0  0.0    0.0      0.0   \n",
      "AAACCCAAGCTCGACC-1   0.0     0.0      0.0      0.0  0.0    0.0      0.0   \n",
      "AAACCCAAGTGAGGTC-1   0.0     0.0      0.0      0.0  0.0    0.0      0.0   \n",
      "\n",
      "                    Gm37323  Mrpl15  Lypla1  ...  Gm16367  AC163611.1  \\\n",
      "AAACCCAAGACCAAGC-1      0.0     0.0     0.0  ...      0.0         0.0   \n",
      "AAACCCAAGACTCCGC-1      0.0     1.0     2.0  ...      0.0         0.0   \n",
      "AAACCCAAGCGTACAG-1      0.0     0.0     0.0  ...      0.0         0.0   \n",
      "AAACCCAAGCTCGACC-1      0.0     0.0     0.0  ...      0.0         0.0   \n",
      "AAACCCAAGTGAGGTC-1      0.0     0.0     1.0  ...      0.0         0.0   \n",
      "\n",
      "                    AC163611.2  AC140365.1  AC124606.2  AC124606.1  \\\n",
      "AAACCCAAGACCAAGC-1         0.0         0.0         0.0         0.0   \n",
      "AAACCCAAGACTCCGC-1         0.0         0.0         0.0         0.0   \n",
      "AAACCCAAGCGTACAG-1         0.0         0.0         0.0         0.0   \n",
      "AAACCCAAGCTCGACC-1         0.0         0.0         0.0         0.0   \n",
      "AAACCCAAGTGAGGTC-1         0.0         0.0         0.0         0.0   \n",
      "\n",
      "                    AC133095.2  AC133095.1  AC234645.1  AC149090.1  \n",
      "AAACCCAAGACCAAGC-1         0.0         0.0         0.0         0.0  \n",
      "AAACCCAAGACTCCGC-1         0.0         0.0         0.0         4.0  \n",
      "AAACCCAAGCGTACAG-1         0.0         0.0         0.0         0.0  \n",
      "AAACCCAAGCTCGACC-1         0.0         0.0         0.0         0.0  \n",
      "AAACCCAAGTGAGGTC-1         0.0         0.0         0.0         3.0  \n",
      "\n",
      "[5 rows x 32285 columns]\n"
     ]
    }
   ],
   "source": [
    "# convert top 50,000 datapoints of this to pandas df because, again, small virenv\n",
    "import pandas as pd\n",
    "import numpy as np\n",
    "\n",
    "# tenary that converts matrix into dense if not already\n",
    "dense_matrix = adata.X[:50000,].toarray() if hasattr(adata.X, 'toarray') else adata.X[:50000,]  \n",
    "\n",
    "# Convert to Pandas DataFrame\n",
    "df = pd.DataFrame(dense_matrix, index=adata.obs_names[:50000], columns=adata.var_names)\n",
    "\n",
    "# Display the first few rows\n",
    "print(df.head())"
   ]
  }
 ],
 "metadata": {
  "kernelspec": {
   "display_name": "scrna_env",
   "language": "python",
   "name": "python3"
  },
  "language_info": {
   "codemirror_mode": {
    "name": "ipython",
    "version": 3
   },
   "file_extension": ".py",
   "mimetype": "text/x-python",
   "name": "python",
   "nbconvert_exporter": "python",
   "pygments_lexer": "ipython3",
   "version": "3.10.0"
  }
 },
 "nbformat": 4,
 "nbformat_minor": 2
}
