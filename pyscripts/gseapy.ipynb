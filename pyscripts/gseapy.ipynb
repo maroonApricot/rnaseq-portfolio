{
 "cells": [
  {
   "cell_type": "code",
   "execution_count": null,
   "id": "f79faddd",
   "metadata": {},
   "outputs": [],
   "source": [
    "import gseapy as gp\n",
    "import pandas as pd\n",
    "import os"
   ]
  },
  {
   "cell_type": "markdown",
   "id": "00c71d80",
   "metadata": {},
   "source": [
    "When loading in genesets, I used csv files with the following format:\n",
    "\n",
    "| index | gene_symbol |\n",
    "| ----- | ----------- |\n",
    "| 0     | ABCE1       |\n",
    "| 1     | NEAT1       |\n",
    "| 2     | ALB         |"
   ]
  },
  {
   "cell_type": "code",
   "execution_count": null,
   "id": "b038254a",
   "metadata": {},
   "outputs": [],
   "source": [
    "gene_sets = {}\n",
    "for file in [\"path/to/geneset.csv\"]: #can run on multiple genesets at a time\n",
    "    df = pd.read_csv(file, header=0, index_col=0)\n",
    "    set_name = os.path.basename(file).split(\".\")[0].replace(\"Homo_sapiens_\", \"\") # my genesets had prefixes on them, can remove replace()\n",
    "    gene_sets[set_name] = df[\"gene_symbol\"].tolist()"
   ]
  },
  {
   "cell_type": "markdown",
   "id": "42f0c1d9",
   "metadata": {},
   "source": [
    "### Option #1: run pre-rank on a .rnk file with your genes preranked in descending order"
   ]
  },
  {
   "cell_type": "code",
   "execution_count": null,
   "id": "dd2c469c",
   "metadata": {},
   "outputs": [],
   "source": [
    "rnk_df = pd.read_csv(\"../ranking_expression.rnk\", sep=\"\\t\", header=None)\n",
    "print(rnk_df.head())\n",
    "print(rnk_df.dtypes)\n",
    "\n",
    "pre_res = gp.prerank(rnk=rnk_df,\n",
    "                    gene_sets=gene_sets)"
   ]
  },
  {
   "cell_type": "markdown",
   "id": "5578b88a",
   "metadata": {},
   "source": [
    "### Option #2: Run GSEA full, similar to GSEA CLI provided by Broad Institute"
   ]
  },
  {
   "cell_type": "code",
   "execution_count": null,
   "id": "ebea9a70",
   "metadata": {},
   "outputs": [],
   "source": [
    "phenoA, phenoB, class_vector =  gp.parser.gsea_cls_parser(\"annotations.cls\")\n",
    "print(class_vector)\n",
    "gene_exp = pd.read_csv(\"../expression_matrix.gct\", sep=\"\\t\", header=2)\n",
    "gene_exp.head()"
   ]
  },
  {
   "cell_type": "code",
   "execution_count": null,
   "id": "3a976107",
   "metadata": {},
   "outputs": [
    {
     "name": "stdout",
     "output_type": "stream",
     "text": [
      "positively correlated:  Low\n",
      "negtively correlated:  High\n"
     ]
    }
   ],
   "source": [
    "print(\"positively correlated: \", phenoA) #phenotype of interest\n",
    "print(\"negtively correlated: \", phenoB) #control"
   ]
  },
  {
   "cell_type": "code",
   "execution_count": null,
   "id": "1119b94d",
   "metadata": {},
   "outputs": [
    {
     "name": "stderr",
     "output_type": "stream",
     "text": [
      "2025-07-28 15:32:36,482 Warning: Input data contains NA, filled NA with 0\n",
      "2025-07-28 15:32:41,118 Warning: Input data contains NA, filled NA with 0\n"
     ]
    }
   ],
   "source": [
    "gs_res = gp.gsea(data=gene_exp,\n",
    "         gene_sets=gene_sets, \n",
    "         cls = class_vector,\n",
    "         permutation_type='phenotype', \n",
    "         permutation_num=100000,\n",
    "         outdir=\"GSEA\", \n",
    "         method='s2n') #default signal to noise, strong where n>=3/condition\n",
    "gs_res.pheno_pos = \"Low\" \n",
    "gs_res.pheno_neg = \"High\"\n",
    "gs_res.run()"
   ]
  }
 ],
 "metadata": {
  "kernelspec": {
   "display_name": "scrna_env",
   "language": "python",
   "name": "python3"
  },
  "language_info": {
   "codemirror_mode": {
    "name": "ipython",
    "version": 3
   },
   "file_extension": ".py",
   "mimetype": "text/x-python",
   "name": "python",
   "nbconvert_exporter": "python",
   "pygments_lexer": "ipython3",
   "version": "3.13.5"
  }
 },
 "nbformat": 4,
 "nbformat_minor": 5
}
