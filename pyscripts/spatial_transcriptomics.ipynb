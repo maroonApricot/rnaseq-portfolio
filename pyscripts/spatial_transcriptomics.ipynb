{
 "cells": [
  {
   "cell_type": "code",
   "execution_count": 1,
   "id": "117ef341",
   "metadata": {},
   "outputs": [],
   "source": [
    "import scanpy as sc\n",
    "import pandas as pd\n",
    "import matplotlib.pyplot as plt\n",
    "import seaborn as sns"
   ]
  },
  {
   "cell_type": "code",
   "execution_count": null,
   "id": "5fa748a4",
   "metadata": {},
   "outputs": [],
   "source": [
    "sc.logging.print_versions()\n",
    "sc.set_figure_params(facecolor=\"white\", figsize=(8, 8))\n",
    "sc.settings.verbosity = 3"
   ]
  },
  {
   "cell_type": "code",
   "execution_count": null,
   "id": "a6df062d",
   "metadata": {},
   "outputs": [],
   "source": [
    "adata = sc.read_visium()"
   ]
  },
  {
   "cell_type": "code",
   "execution_count": null,
   "id": "582e876e",
   "metadata": {},
   "outputs": [],
   "source": [
    "adata.var_names_make_unique()\n",
    "# mitochondrial genes, MT for human Mt for mice\n",
    "adata.var[\"mt\"] = adata.var_names.str.startswith(\"MT-\")\n",
    "# ribosomal genes\n",
    "adata.var[\"ribo\"] = adata.var_names.str.startswith((\"RPS\", \"RPL\"))\n",
    "sc.pp.calculate_qc_metrics(adata, qc_vars=['mt', 'ribo'], percent_top=None, log1p=False, inplace=True)\n",
    "sc.pl.violin(\n",
    "adata,\n",
    "[\"n_genes_by_counts\", \"total_counts\", \"pct_counts_mt\", \"pct_counts_ribo\"],\n",
    "jitter=0.4,\n",
    "multi_panel=True,\n",
    ") \n",
    "\n",
    "adata = adata[adata.obs.pct_counts_mt <= 20]\n",
    "adata = adata[adata.obs.pct_counts_ribo < 1]\n",
    "\n",
    "sc.pp.filter_cells(adata, min_genes=500) \n",
    "sc.pp.filter_genes(adata, min_cells=3) \n",
    "\n",
    "sc.pl.violin(\n",
    "adata,\n",
    "[\"n_genes_by_counts\", \"total_counts\", \"pct_counts_mt\", \"pct_counts_ribo\"],\n",
    "jitter=0.4,\n",
    "multi_panel=True,\n",
    ") "
   ]
  },
  {
   "cell_type": "code",
   "execution_count": null,
   "id": "96c2eaea",
   "metadata": {},
   "outputs": [],
   "source": [
    "sc.pp.normalize_total(adata, inplace=True)\n",
    "sc.pp.log1p(adata)"
   ]
  },
  {
   "cell_type": "code",
   "execution_count": null,
   "id": "7cf16520",
   "metadata": {},
   "outputs": [],
   "source": [
    "sc.pp.regress_out(adata, ['total_counts'])"
   ]
  },
  {
   "cell_type": "code",
   "execution_count": null,
   "id": "fa64ffe4",
   "metadata": {},
   "outputs": [],
   "source": [
    "sc.pp.scale(adata, max_value=15)\n",
    "sc.pp.pca(adata, svd_solver='arpack', n_comps = 15)\n",
    "sc.pl.pca_variance_ratio(adata, log=True)"
   ]
  },
  {
   "cell_type": "code",
   "execution_count": null,
   "id": "a38ee52e",
   "metadata": {},
   "outputs": [],
   "source": [
    "key = \"n53_pc10\"\n",
    "resolution = 0.2\n",
    "leidan_key = f\"leiden_res{resolution}_{key}\"\n",
    "sc.pp.neighbors(adata, n_neighbors=53, n_pcs=10, key_added=key)\n",
    "\n",
    "# Plot UMAP\n",
    "sc.tl.leiden(adata, flavor=\"igraph\", resolution=resolution, key_added=leidan_key, neighbors_key=key)\n",
    "sc.tl.umap(adata, neighbors_key=key)\n",
    "sc.pl.umap(adata, legend_loc=\"on data\", color=[leidan_key])"
   ]
  },
  {
   "cell_type": "code",
   "execution_count": null,
   "id": "5d80228c",
   "metadata": {},
   "outputs": [],
   "source": [
    "plt.rcParams[\"figure.figsize\"] = (8, 8)\n",
    "sc.pl.spatial(adata, img_key=\"hires\", color=[\"total_counts\", \"n_genes_by_counts\"])"
   ]
  },
  {
   "cell_type": "code",
   "execution_count": null,
   "id": "a8d3f3af",
   "metadata": {},
   "outputs": [],
   "source": []
  }
 ],
 "metadata": {
  "kernelspec": {
   "display_name": "scrna_env",
   "language": "python",
   "name": "python3"
  },
  "language_info": {
   "codemirror_mode": {
    "name": "ipython",
    "version": 3
   },
   "file_extension": ".py",
   "mimetype": "text/x-python",
   "name": "python",
   "nbconvert_exporter": "python",
   "pygments_lexer": "ipython3",
   "version": "3.13.5"
  }
 },
 "nbformat": 4,
 "nbformat_minor": 5
}
