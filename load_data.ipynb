{
 "cells": [
  {
   "cell_type": "code",
   "execution_count": null,
   "metadata": {},
   "outputs": [],
   "source": [
    "import multiprocessing\n",
    "import os\n",
    "import psutil\n",
    "\n",
    "logical_cpu_count = multiprocessing.cpu_count()\n",
    "print(f\"Total logical CPUs: {logical_cpu_count}\")\n",
    "\n",
    "try:\n",
    "    allowed_cpu_count = len(os.sched_getaffinity(0))\n",
    "    print(f\"Allowed CPUs for the process: {allowed_cpu_count}\")\n",
    "except:\n",
    "    allowed_cpu_count = psutil.cpu_count(logical=True)\n",
    "    print(f\"Allowed CPUs for the process: {allowed_cpu_count}\")"
   ]
  },
  {
   "cell_type": "code",
   "execution_count": null,
   "metadata": {},
   "outputs": [],
   "source": [
    "import scanpy as sc\n",
    "sc.settings.n_jobs = -1\n",
    "# import h5py\n",
    "# import umap\n",
    "import numpy as np\n",
    "import pandas as pd\n",
    "import seaborn as sns\n",
    "import anndata as ad\n",
    "from pydeseq2.dds import DeseqDataSet\n",
    "from pydeseq2.ds import DeseqStats\n",
    "import pydeseq2.preprocessing as preprocess\n",
    "import matplotlib as plt"
   ]
  },
  {
   "cell_type": "markdown",
   "metadata": {},
   "source": [
    "Preprocessed UMAP data in MTX form comes from the following:\n",
    "- [human liver samples](https://singlecell.broadinstitute.org/single_cell/study/SCP2154/identification-of-a-broadly-fibrogenic-macrophage-subset-induced-by-type-3-inflammation-human-liver-fibrosis-scrnaseq-atlas#/)\n",
    "- [mouse liver samples](https://singlecell.broadinstitute.org/single_cell/study/SCP2053/identification-of-a-broadly-fibrogenic-macrophage-subset-induced-by-type-3-inflammation-murine-liver-fibrosis-scrnaseq-atlas?#study-summary )"
   ]
  },
  {
   "cell_type": "code",
   "execution_count": null,
   "metadata": {},
   "outputs": [],
   "source": [
    "# Load the filtered feature/cell matrix from HDF5\n",
    "adata = sc.read_10x_mtx(\n",
    "    \"../data/SCP2154_human/expression/64130e92cc37d750c0a62f14\",\n",
    "    var_names=\"gene_symbols\",  # uses 2nd column\n",
    "    make_unique=True,\n",
    "    cache=True,\n",
    ")\n",
    "adata.obs['sample'] = adata.obs.index\n",
    "adata.obs\n",
    "# barcodes = pd.read_csv(\"../data/SCP2154_human/expression/64130e92cc37d750c0a62f14//barcodes_raw.tsv\")\n",
    "# features = pd.read_csv(\n",
    "#     \"../data/SCP2154_human\"/expression/64130e92cc37d750c0a62f14//features_raw.tsv\"\n",
    "# )"
   ]
  },
  {
   "cell_type": "code",
   "execution_count": null,
   "metadata": {},
   "outputs": [],
   "source": [
    "metadata = pd.read_csv(\"../data/SCP2154_human/metadata/2022_SI_human_liver_allcells_metadata_file.txt\", sep=\"\\t\").set_index(\"NAME\").iloc[1:,[1, 5, 14]]\n",
    "metadata"
   ]
  },
  {
   "cell_type": "code",
   "execution_count": null,
   "metadata": {},
   "outputs": [],
   "source": [
    "# Suppose adata.obs has a column 'cell_id' that matches df_to_add['cell_id']\n",
    "adata.obs = adata.obs.merge(metadata, left_on='sample', right_on='NAME', how='left')\n",
    "adata.obs"
   ]
  },
  {
   "cell_type": "code",
   "execution_count": null,
   "metadata": {},
   "outputs": [],
   "source": [
    "adata.var.index[adata.var.index.str.contains(\"MIR122HG\")]"
   ]
  },
  {
   "cell_type": "markdown",
   "metadata": {},
   "source": [
    "## Whole sample preprocessing + cell type extraction"
   ]
  },
  {
   "cell_type": "code",
   "execution_count": null,
   "metadata": {},
   "outputs": [],
   "source": [
    "adata.obs"
   ]
  },
  {
   "cell_type": "code",
   "execution_count": null,
   "metadata": {},
   "outputs": [],
   "source": [
    "# mitochondrial genes, MT for human Mt for mice\n",
    "adata.var[\"mt\"] = adata.var_names.str.startswith(\"MT-\")\n",
    "# ribosomal genes\n",
    "adata.var[\"ribo\"] = adata.var_names.str.startswith((\"RPS\", \"RPL\"))\n",
    "sc.pp.calculate_qc_metrics(adata, qc_vars=['mt', 'ribo'], percent_top=None, log1p=False, inplace=True)\n",
    "sc.pl.violin(\n",
    "adata,\n",
    "[\"n_genes_by_counts\", \"total_counts\", \"pct_counts_mt\", \"pct_counts_ribo\"],\n",
    "jitter=0.4,\n",
    "multi_panel=True,\n",
    ") \n",
    "\n",
    "adata = adata[adata.obs.pct_counts_mt <= 20]\n",
    "adata = adata[adata.obs.pct_counts_ribo < 1]\n",
    "\n",
    "sc.pp.filter_cells(adata, min_genes=500) \n",
    "sc.pp.filter_genes(adata, min_cells=3) \n",
    "\n",
    "sc.pl.violin(\n",
    "adata,\n",
    "[\"n_genes_by_counts\", \"total_counts\", \"pct_counts_mt\", \"pct_counts_ribo\"],\n",
    "jitter=0.4,\n",
    "multi_panel=True,\n",
    ") "
   ]
  },
  {
   "cell_type": "code",
   "execution_count": null,
   "metadata": {},
   "outputs": [],
   "source": [
    "sc.pl.scatter(adata, \"total_counts\", \"n_genes_by_counts\", color=\"pct_counts_mt\")"
   ]
  },
  {
   "cell_type": "code",
   "execution_count": null,
   "metadata": {},
   "outputs": [],
   "source": [
    "sc.pp.scrublet(adata, batch_key=\"donor_id\") #can be configured to factor in batches\n",
    "\n",
    "# normalize\n",
    "adata.layers[\"counts\"] = adata.X.copy()\n",
    "sc.pp.normalize_total(adata)\n",
    "sc.pp.log1p(adata)"
   ]
  },
  {
   "cell_type": "markdown",
   "metadata": {},
   "source": [
    "### start from here after preprocessing"
   ]
  },
  {
   "cell_type": "code",
   "execution_count": null,
   "metadata": {},
   "outputs": [],
   "source": [
    "# adata.write(\"cache/processed_and_normalized_mt.h5ad\")\n",
    "adata = sc.read(\"cache/processed_and_normalized_mt.h5ad\")"
   ]
  },
  {
   "cell_type": "code",
   "execution_count": null,
   "metadata": {},
   "outputs": [],
   "source": [
    "# Scale the data and perform PCA\n",
    "sc.pp.scale(adata, max_value=50)\n",
    "sc.tl.pca(adata, svd_solver='arpack')"
   ]
  },
  {
   "cell_type": "code",
   "execution_count": null,
   "metadata": {},
   "outputs": [],
   "source": [
    "# ---------------------------- Human Data Settings --------------------------- #\n",
    "key = \"n53_pc10\"\n",
    "resolution = 0.2\n",
    "leidan_key = f\"leiden_res{resolution}_{key}\"\n",
    "sc.pp.neighbors(adata, n_neighbors=53, n_pcs=10, key_added=key)\n",
    "\n",
    "# Plot UMAP\n",
    "sc.tl.leiden(adata, flavor=\"igraph\", resolution=resolution, key_added=leidan_key, neighbors_key=key)\n",
    "sc.tl.umap(adata, neighbors_key=key)\n",
    "sc.pl.umap(adata, legend_loc=\"on data\", color=[leidan_key])"
   ]
  },
  {
   "cell_type": "code",
   "execution_count": null,
   "metadata": {},
   "outputs": [],
   "source": [
    "sc.pl.umap(adata, color=[\"MIR122HG\", \"ALB\", \"APOA2\", \"CYP2E1\"], frameon=False, vmax = 10, vmin=0, ncols=2, neighbors_key=key,save=\"_markers_lnc122_projections_mt2.png\")"
   ]
  },
  {
   "cell_type": "code",
   "execution_count": null,
   "metadata": {},
   "outputs": [],
   "source": [
    "sc.pl.dotplot(adata, ['ALB', 'APOA2', 'CYP2E1', 'ASS1', 'PCK1', 'TTR', 'MIR122HG'], groupby=leidan_key, save=\"_markers_lnc122_mt2.pdf\")"
   ]
  },
  {
   "cell_type": "code",
   "execution_count": null,
   "metadata": {},
   "outputs": [],
   "source": [
    "# sc.tl.rank_genes_groups(adata, groupby=leidan_key, method=\"t-test\")\n",
    "# sc.get.rank_genes_groups_df(adata, group=\"15\").head(20)[\"names\"]"
   ]
  },
  {
   "cell_type": "code",
   "execution_count": null,
   "metadata": {},
   "outputs": [],
   "source": [
    "# hepatocytes = adata[(adata.obs[leidan_key] == '10') | (adata.obs[leidan_key] == '11')].copy()\n",
    "# hepatocytes.X = hepatocytes.layers[\"counts\"] #make sure to use raw data\n",
    "\n",
    "hepatocytes = adata[(adata.obs[leidan_key] == '9') | (adata.obs[leidan_key] == '13')].copy()\n",
    "\n",
    "# # hvg cleaned data\n",
    "# metadata = adata.obs\n",
    "# adata = sc.read(\"cache/processed_and_normalized_mt.h5ad\")\n",
    "# adata.X = adata.layers[\"counts\"].copy()\n",
    "# adata.obs = adata.obs = metadata.reindex(adata.obs_names)"
   ]
  },
  {
   "cell_type": "code",
   "execution_count": null,
   "metadata": {},
   "outputs": [],
   "source": [
    "hepatocytes.shape"
   ]
  },
  {
   "cell_type": "code",
   "execution_count": null,
   "metadata": {},
   "outputs": [],
   "source": [
    "print(hepatocytes.obs[leidan_key].dtype)"
   ]
  },
  {
   "cell_type": "code",
   "execution_count": null,
   "metadata": {},
   "outputs": [],
   "source": [
    "# # # Split leidan clusters\n",
    "\n",
    "# hepatocytes.obs['donor_id'] = hepatocytes.obs['donor_id'].astype(str)\n",
    "\n",
    "# mask = (hepatocytes.obs['donor_id'] == \"P8\") & (hepatocytes.obs[leidan_key] == '10')\n",
    "# hepatocytes.obs.loc[mask, 'donor_id'] = \"P8_10\"\n",
    "\n",
    "# mask = (hepatocytes.obs['donor_id'] == \"P8\") & (hepatocytes.obs[leidan_key] == '12')\n",
    "# hepatocytes.obs.loc[mask, 'donor_id'] = \"P8_12\""
   ]
  },
  {
   "cell_type": "code",
   "execution_count": 320,
   "metadata": {},
   "outputs": [
    {
     "data": {
      "text/plain": [
       "donor_id\n",
       "C41              9\n",
       "C58_RESEQ       13\n",
       "C70_RESEQ        9\n",
       "C72_RESEQ       13\n",
       "H02              9\n",
       "H13              9\n",
       "H16              9\n",
       "H18              9\n",
       "H22              9\n",
       "H23             13\n",
       "H25              9\n",
       "P2               9\n",
       "P3               9\n",
       "P4               9\n",
       "P5               9\n",
       "P6               9\n",
       "P7               9\n",
       "P8              13\n",
       "P9              13\n",
       "P13              9\n",
       "P14              9\n",
       "cirr1            9\n",
       "cirr2            9\n",
       "cirr3            9\n",
       "macparland.1    13\n",
       "macparland.2     9\n",
       "macparland.3     9\n",
       "macparland.4    13\n",
       "macparland.5     9\n",
       "norm1            9\n",
       "norm3            9\n",
       "norm4            9\n",
       "norm5            9\n",
       "zhao9            9\n",
       "Name: leiden_res0.2_n53_pc10, dtype: category\n",
       "Categories (2, object): ['9', '13']"
      ]
     },
     "execution_count": 320,
     "metadata": {},
     "output_type": "execute_result"
    }
   ],
   "source": [
    "# get the dominant leiden cluster for each sample\n",
    "pd.set_option('display.max_rows', None)\n",
    "hepatocytes.obs.groupby(\"donor_id\")[leidan_key].agg(lambda x: x.value_counts().idxmax())"
   ]
  },
  {
   "cell_type": "code",
   "execution_count": null,
   "metadata": {},
   "outputs": [],
   "source": [
    "# # aggregate small clusters <50. if still <50 drop\n",
    "\n",
    "# # Merge sampleB and sampleC into 'sampleBC'\n",
    "# hepatocytes.obs['pseudobulk_id'] = hepatocytes.obs['donor_id'].astype(str)\n",
    "\n",
    "# hepatocytes.obs.loc[hepatocytes.obs['donor_id'].isin(['norm1', 'norm3', 'norm4', 'norm5']), 'pseudobulk_id'] = 'norm'\n",
    "# hepatocytes.obs.loc[hepatocytes.obs['donor_id'].isin(['macparland.1', 'macparland.5', \"macparland.4\"]), 'pseudobulk_id'] = 'macparland.1.4.5'\n",
    "# hepatocytes.obs.loc[hepatocytes.obs['donor_id'].isin(['H02', 'H13', 'H16', 'H18', 'H22', \"H25\"]), 'pseudobulk_id'] = 'H_study'\n",
    "# hepatocytes.obs.loc[hepatocytes.obs['donor_id'].isin(['P13', 'P2', 'P3', 'P4', 'P5', 'P6']), 'pseudobulk_id'] = 'P_study'\n",
    "# hepatocytes.obs.loc[hepatocytes.obs['donor_id'].isin(['cirr1', 'cirr2', 'cirr3']), 'pseudobulk_id'] = 'cirr_study'\n",
    "\n",
    "# # zhao drop bc only has two cells\n",
    "# hepatocytes = hepatocytes[hepatocytes.obs['pseudobulk_id'] != 'zhao9'].copy()\n",
    "# hepatocytes = hepatocytes[hepatocytes.obs['pseudobulk_id'] != 'norm'].copy()"
   ]
  },
  {
   "cell_type": "code",
   "execution_count": null,
   "metadata": {},
   "outputs": [],
   "source": [
    "gene = \"MIR122HG\"\n",
    "\n",
    "# Extract expression values and convert to dense (flattened)\n",
    "expr = hepatocytes[:, gene].X.toarray().flatten()\n",
    "\n",
    "# Define percentiles\n",
    "low_thresh = np.percentile(expr, 25)\n",
    "high_thresh = np.percentile(expr, 75)\n",
    "# low_thresh = 0\n",
    "\n",
    "# Assign labels based on thresholds\n",
    "def assign_level(x):\n",
    "    if x <= low_thresh:\n",
    "        return \"Low\"\n",
    "    elif x < high_thresh:\n",
    "        return \"Mid\"\n",
    "    else:\n",
    "        return \"High\"\n",
    "\n",
    "hepatocytes.obs[\"MIR122HG_level\"] = [assign_level(x) for x in expr]\n"
   ]
  },
  {
   "cell_type": "code",
   "execution_count": null,
   "metadata": {},
   "outputs": [],
   "source": [
    "# import random\n",
    "pbs = []\n",
    "key_12 = [\"C58_RESEQ\", \"C72_RESEQ\", \"H23\", \"P8\", \"P9\"]\n",
    "# key_13 = [\"C58_RESEQ\", \"C72_RESEQ\", \"H11\", \"H23\", \"P8\", \"P9\", \"macparland.1\", \"macparland.4\"]\n",
    "for donor_id in hepatocytes.obs[\"donor_id\"].unique():\n",
    "    samp_hepatocytes = hepatocytes[hepatocytes.obs[\"donor_id\"] == donor_id]\n",
    "    samp_hepatocytes.X = samp_hepatocytes.layers['counts']\n",
    "\n",
    "    X_sum = samp_hepatocytes.X.sum(axis = 0).reshape(1, -1)\n",
    "\n",
    "    rep_adata = sc.AnnData(X = X_sum,\n",
    "                            var = samp_hepatocytes.var[[]])\n",
    "    rep_adata.obs_names = [donor_id]\n",
    "    rep_adata.obs[\"donor_id\"] = samp_hepatocytes.obs[\"donor_id\"].iloc[0]\n",
    "    rep_adata.obs[leidan_key] = \"High\" if (donor_id in key_12) else \"Low\"\n",
    "\n",
    "    rep_adata.obs\n",
    "    pbs.append(rep_adata)\n",
    "\n",
    "    # indices = list(samp_hepatocytes.obs_names)\n",
    "    # random.shuffle(indices)\n",
    "    # num_reps = 5 if (donor_id == \"15\") else 10\n",
    "    # indices = np.array_split(np.array(indices), num_reps)\n",
    "    \n",
    "    # for i, pseudo_rep in enumerate(indices):\n",
    "    \n",
    "    #     rep_adata = sc.AnnData(X_sum, var = samp_hepatocytes[indices[i]].var[[]])\n",
    "\n",
    "    #     rep_adata.obs_names = [donor_id + '_' + str(i)]\n",
    "    #     rep_adata.obs[donor_id] = samp_hepatocytes.obs[donor_id].iloc[0]\n",
    "    #     rep_adata.obs['replicate'] = i\n",
    "\n",
    "    #     pbs.append(rep_adata)"
   ]
  },
  {
   "cell_type": "code",
   "execution_count": null,
   "metadata": {},
   "outputs": [],
   "source": [
    "hepatocytes = sc.concat(pbs)"
   ]
  },
  {
   "cell_type": "code",
   "execution_count": null,
   "metadata": {},
   "outputs": [],
   "source": [
    "hepatocytes.obs"
   ]
  },
  {
   "cell_type": "code",
   "execution_count": null,
   "metadata": {},
   "outputs": [],
   "source": [
    "# for gct only\n",
    "hepatocytes.obs[\"sample_name\"] = hepatocytes.obs_names + \"_\" + hepatocytes.obs[\"leiden_res0.2_n50_pc10\"]\n",
    "counts = pd.DataFrame(hepatocytes.X, columns = hepatocytes.var_names, index=hepatocytes.obs[\"sample_name\"])\n",
    "norm_counts, size_factors = preprocess.deseq2_norm(counts)\n",
    "\n",
    "norm_counts.T.to_csv(\"/home/hjang620/20250603_Anh_HCC/scrna/notebook_scripts/deseq2_norm.gct\", sep=\"\\t\")"
   ]
  },
  {
   "cell_type": "code",
   "execution_count": null,
   "metadata": {},
   "outputs": [],
   "source": [
    "counts = pd.DataFrame(hepatocytes.X, columns = hepatocytes.var_names)\n",
    "counts.T.to_csv(\"intermediate/counts_intermediate.csv\")\n",
    "hepatocytes.obs.to_csv(\"intermediate/metadata_intermediate.csv\")\n",
    "print(leidan_key)"
   ]
  },
  {
   "cell_type": "code",
   "execution_count": null,
   "metadata": {},
   "outputs": [],
   "source": [
    "counts = pd.DataFrame(hepatocytes.X, columns = hepatocytes.var_names)\n",
    "dds = DeseqDataSet(\n",
    "    counts = counts,\n",
    "    metadata=hepatocytes.obs,\n",
    "    design_factors=leidan_key)\n",
    "dds"
   ]
  },
  {
   "cell_type": "code",
   "execution_count": null,
   "metadata": {},
   "outputs": [],
   "source": [
    "sc.pp.filter_genes(dds, min_cells = 1)\n",
    "dds"
   ]
  },
  {
   "cell_type": "code",
   "execution_count": null,
   "metadata": {},
   "outputs": [],
   "source": [
    "dds.deseq2()"
   ]
  },
  {
   "cell_type": "code",
   "execution_count": null,
   "metadata": {},
   "outputs": [],
   "source": [
    "sc.tl.pca(dds)\n",
    "sc.pl.pca(dds, color = leidan_key, size = 200)"
   ]
  },
  {
   "cell_type": "code",
   "execution_count": null,
   "metadata": {},
   "outputs": [],
   "source": [
    "stat_res = DeseqStats(dds, n_cpus=8, contrast=(leidan_key, \"Low\", 'High'))\n",
    "stat_res.summary()"
   ]
  },
  {
   "cell_type": "code",
   "execution_count": null,
   "metadata": {},
   "outputs": [],
   "source": [
    "de  = stat_res.results_df\n",
    "# de.sort_values('stat', ascending = False)\n",
    "de.to_csv(\"leidan_ranking_mt.csv\")"
   ]
  },
  {
   "cell_type": "markdown",
   "metadata": {},
   "source": [
    "## GSEA analysis!"
   ]
  },
  {
   "cell_type": "code",
   "execution_count": null,
   "metadata": {},
   "outputs": [],
   "source": [
    "hepatocytes.obs[\"MIR122HG_level\"].value_counts()"
   ]
  },
  {
   "cell_type": "code",
   "execution_count": null,
   "metadata": {},
   "outputs": [],
   "source": [
    "import os\n",
    "gene_sets = {}\n",
    "for file in [\"/home/hjang620/20250603_Anh_HCC/reference_files/human/Homo_sapiens_HALLMARK_OXIDATIVE_PHOSPHORYLATION.csv\", \n",
    "             \"/home/hjang620/20250603_Anh_HCC/reference_files/human/Homo_sapiens_KEGG_CITRATE_CYCLE_TCA_CYCLE.csv\", \n",
    "             \"/home/hjang620/20250603_Anh_HCC/reference_files/human/Homo_sapiens_REACTOME_MITOCHONDRIAL_BIOGENESIS.csv\"]:\n",
    "    df = pd.read_csv(file, header=0, index_col=0)\n",
    "    set = os.path.basename(file).split(\".\")[0].replace(\"Homo_sapiens_\", \"\")\n",
    "    gene_sets[set] = df[\"gene_symbol\"].tolist()"
   ]
  },
  {
   "cell_type": "code",
   "execution_count": null,
   "metadata": {},
   "outputs": [],
   "source": [
    "hepatocytes.obs[leidan_key] = pd.Categorical(hepatocytes.obs[leidan_key], categories=[\"9\", \"12\"], ordered=True)\n",
    "indices = hepatocytes.obs.sort_values([leidan_key]).index\n",
    "hepatocytes = hepatocytes[indices,:]"
   ]
  },
  {
   "cell_type": "code",
   "execution_count": null,
   "metadata": {},
   "outputs": [],
   "source": [
    "hepatocytes.obs['MIR122HG_level']"
   ]
  },
  {
   "cell_type": "code",
   "execution_count": null,
   "metadata": {},
   "outputs": [],
   "source": [
    "# sc resolution gseapy\n",
    "import gseapy as gp\n",
    "res = gp.gsea(data=hepatocytes.to_df().T, # row -> genes, column-> samples\n",
    "        gene_sets=gene_sets,\n",
    "        cls=hepatocytes.obs[\"MIR122HG_level\"],\n",
    "        permutation_num=1000,\n",
    "        permutation_type='phenotype', \n",
    "        outdir=\"sc_res_expr\",\n",
    "        method='signal_to_noise', \n",
    "        threads= 16)"
   ]
  },
  {
   "cell_type": "code",
   "execution_count": null,
   "metadata": {},
   "outputs": [],
   "source": [
    "term = res.res2d.Term\n",
    "axs = res.plot(terms=term[:5])"
   ]
  },
  {
   "cell_type": "code",
   "execution_count": null,
   "metadata": {},
   "outputs": [],
   "source": [
    "sc.tl.rank_genes_groups(hepatocytes, \n",
    "                        groupby='MIR122HG_level', \n",
    "                        use_raw=False,\n",
    "                        method='wilcoxon', \n",
    "                        groups=[\"Low\"], \n",
    "                        reference='High')"
   ]
  },
  {
   "cell_type": "code",
   "execution_count": null,
   "metadata": {},
   "outputs": [],
   "source": [
    "result = hepatocytes.uns['rank_genes_groups']\n",
    "groups = result['names'].dtype.names\n",
    "degs = pd.DataFrame(\n",
    "    {group + '_' + key: result[key][group]\n",
    "    for group in groups for key in ['names','scores', 'pvals','pvals_adj','logfoldchanges']})"
   ]
  },
  {
   "cell_type": "code",
   "execution_count": null,
   "metadata": {},
   "outputs": [],
   "source": [
    "degs.head()"
   ]
  },
  {
   "cell_type": "code",
   "execution_count": null,
   "metadata": {},
   "outputs": [],
   "source": [
    "import gseapy as gp\n",
    "pre_res = gp.prerank(degs.loc[:,['Low_names', 'Low_logfoldchanges']], gene_sets=gene_sets)"
   ]
  },
  {
   "cell_type": "markdown",
   "metadata": {},
   "source": []
  },
  {
   "cell_type": "code",
   "execution_count": null,
   "metadata": {},
   "outputs": [],
   "source": []
  }
 ],
 "metadata": {
  "kernelspec": {
   "display_name": "scrna_env",
   "language": "python",
   "name": "python3"
  },
  "language_info": {
   "codemirror_mode": {
    "name": "ipython",
    "version": 3
   },
   "file_extension": ".py",
   "mimetype": "text/x-python",
   "name": "python",
   "nbconvert_exporter": "python",
   "pygments_lexer": "ipython3",
   "version": "3.13.5"
  }
 },
 "nbformat": 4,
 "nbformat_minor": 2
}
